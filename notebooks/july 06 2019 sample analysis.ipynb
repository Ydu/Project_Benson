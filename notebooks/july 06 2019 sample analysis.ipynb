{
 "cells": [
  {
   "cell_type": "code",
   "execution_count": 13,
   "metadata": {},
   "outputs": [],
   "source": [
    "import pandas as pd\n",
    "import numpy as np\n",
    "import seaborn as sns\n",
    "import matplotlib.pyplot as plt\n",
    "import calendar\n",
    "from datetime import datetime\n",
    "from datetime import date\n",
    "from sklearn import datasets\n",
    "from scipy import stats"
   ]
  },
  {
   "cell_type": "code",
   "execution_count": 5,
   "metadata": {},
   "outputs": [],
   "source": [
    "path = \"http://web.mta.info/developers/data/nyct/turnstile/turnstile_190706.txt\"\n",
    "new_cols = [\"C/A\", \"UNIT\", \"SCP\", \"STATION\", \"LINENAME\", \"DIVISION\", \"DATE\", \"TIME\", \"DESC\", \"ENTRIES\", \"EXITS\"]\n",
    "MTA_turnstile_sample_data_190706 = pd.read_csv(path, sep=\",\", header=0, names=new_cols)"
   ]
  },
  {
   "cell_type": "code",
   "execution_count": 7,
   "metadata": {},
   "outputs": [],
   "source": [
    "MTA_turnstile_sample_data_190706 = MTA_turnstile_sample_data_190706.dropna()"
   ]
  },
  {
   "cell_type": "code",
   "execution_count": 8,
   "metadata": {},
   "outputs": [],
   "source": [
    "### re-format columns types\n",
    "MTA_turnstile_sample_data_190706[\"TIME\"] = (pd.to_datetime(MTA_turnstile_sample_data_190706[\"TIME\"])).dt.time\n",
    "MTA_turnstile_sample_data_190706[\"DAY_OF_WEEK\"] = (pd.to_datetime(MTA_turnstile_sample_data_190706[\"DATE\"])).dt.weekday_name # by day of the week\n",
    "MTA_turnstile_sample_data_190706[\"MONTH\"] = (pd.to_datetime(MTA_turnstile_sample_data_190706[\"DATE\"])).dt.month # by month\n",
    "MTA_turnstile_sample_data_190706['MONTH'] = MTA_turnstile_sample_data_190706['MONTH'].apply(lambda x: calendar.month_abbr[x])"
   ]
  },
  {
   "cell_type": "code",
   "execution_count": 9,
   "metadata": {},
   "outputs": [],
   "source": [
    "### total turnstile activity\n",
    "MTA_turnstile_sample_data_190706[\"TURNSTILE_PASSES\"] = (MTA_turnstile_sample_data_190706[\"ENTRIES\"] + MTA_turnstile_sample_data_190706[\"EXITS\"])/1000000"
   ]
  },
  {
   "cell_type": "code",
   "execution_count": 49,
   "metadata": {},
   "outputs": [
    {
     "data": {
      "text/plain": [
       "190582    61 ST WOODSIDE\n",
       "Name: STATION, dtype: object"
      ]
     },
     "execution_count": 49,
     "metadata": {},
     "output_type": "execute_result"
    }
   ],
   "source": [
    "### highest traffic as of 07/06/2019 is 61 ST WOOLSIDE with 3968.28319 million\n",
    "### TURNSTILE_PASSES is divided by one million for brevity\n",
    "MTA_turnstile_sample_data_190706[\"TURNSTILE_PASSES\"].max() \n",
    "max_turnstile_station = MTA_turnstile_sample_data_190706[MTA_turnstile_sample_data_190706[\"TURNSTILE_PASSES\"] == MTA_turnstile_sample_data_190706[\"TURNSTILE_PASSES\"].max()]\n",
    "max_turnstile_station.loc[:, \"STATION\"]"
   ]
  },
  {
   "cell_type": "code",
   "execution_count": 56,
   "metadata": {
    "scrolled": false
   },
   "outputs": [
    {
     "name": "stdout",
     "output_type": "stream",
     "text": [
      "['61 ST WOODSIDE', '47-50 STS ROCK', 'CHAMBERS ST', '23 ST', '42 ST-PORT AUTH', 'HIGH ST', '167 ST', '183 ST', 'CANAL ST', \"B'WAY-LAFAYETTE\", 'WORLD TRADE CTR']\n"
     ]
    }
   ],
   "source": [
    "### top stations with the most activity\n",
    "station_activity = MTA_turnstile_sample_data_190706.groupby(\"STATION\", as_index = False)[[\"TURNSTILE_PASSES\"]].max()\n",
    "station_activity = station_activity.sort_values(\"TURNSTILE_PASSES\", ascending = False)\n",
    "\n",
    "n = 11 # get 1-n stations\n",
    "station_activity_condensed = station_activity.iloc[0:n] \n",
    "top_stations = [station for station in station_activity[\"STATION\"]]\n",
    "print(top_stations[0:n])"
   ]
  },
  {
   "cell_type": "code",
   "execution_count": null,
   "metadata": {
    "scrolled": true
   },
   "outputs": [
    {
     "data": {
      "text/plain": [
       "[(3200, 4000)]"
      ]
     },
     "execution_count": 60,
     "metadata": {},
     "output_type": "execute_result"
    }
   ],
   "source": [
    "### plot the top n-1 stations with the most activity \n",
    "plt.figure(figsize=(70, 20))\n",
    "activity_plot = sns.barplot(x = \"STATION\", y = \"TURNSTILE_PASSES\", data = station_activity_condensed);\n",
    "activity_plot.set_xlabel(None);\n",
    "activity_plot.set_ylabel(\"Total Activity (millions)\",fontsize=40);\n",
    "activity_plot.tick_params(labelsize=40)\n",
    "activity_plot.set(ylim=(3200, 4000))"
   ]
  },
  {
   "cell_type": "code",
   "execution_count": null,
   "metadata": {},
   "outputs": [],
   "source": []
  },
  {
   "cell_type": "code",
   "execution_count": null,
   "metadata": {},
   "outputs": [],
   "source": []
  },
  {
   "cell_type": "code",
   "execution_count": null,
   "metadata": {},
   "outputs": [],
   "source": []
  },
  {
   "cell_type": "code",
   "execution_count": null,
   "metadata": {},
   "outputs": [],
   "source": []
  },
  {
   "cell_type": "code",
   "execution_count": null,
   "metadata": {},
   "outputs": [],
   "source": []
  }
 ],
 "metadata": {
  "kernelspec": {
   "display_name": "Python 3",
   "language": "python",
   "name": "python3"
  },
  "language_info": {
   "codemirror_mode": {
    "name": "ipython",
    "version": 3
   },
   "file_extension": ".py",
   "mimetype": "text/x-python",
   "name": "python",
   "nbconvert_exporter": "python",
   "pygments_lexer": "ipython3",
   "version": "3.7.2"
  }
 },
 "nbformat": 4,
 "nbformat_minor": 2
}
